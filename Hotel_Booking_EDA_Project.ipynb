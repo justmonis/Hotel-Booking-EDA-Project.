{
  "nbformat": 4,
  "nbformat_minor": 0,
  "metadata": {
    "colab": {
      "private_outputs": true,
      "provenance": [],
      "collapsed_sections": [
        "Y3lxredqlCYt",
        "3RnN4peoiCZX"
      ],
      "include_colab_link": true
    },
    "kernelspec": {
      "name": "python3",
      "display_name": "Python 3"
    },
    "language_info": {
      "name": "python"
    }
  },
  "cells": [
    {
      "cell_type": "markdown",
      "metadata": {
        "id": "view-in-github",
        "colab_type": "text"
      },
      "source": [
        "<a href=\"https://colab.research.google.com/github/justmonis/Hotel-Booking-EDA-Project./blob/main/Hotel_Booking_EDA_Project.ipynb\" target=\"_parent\"><img src=\"https://colab.research.google.com/assets/colab-badge.svg\" alt=\"Open In Colab\"/></a>"
      ]
    },
    {
      "cell_type": "markdown",
      "source": [
        "# **PROJECT NAME**    - **HOTEL BOOKING ANALYSIS**\n",
        "\n"
      ],
      "metadata": {
        "id": "vncDsAP0Gaoa"
      }
    },
    {
      "cell_type": "markdown",
      "source": [
        "##### **Project Type**    - EDA/Regression/Classification/Unsupervised\n",
        "##### **Contribution**    - **Individual**\n",
        "Name: **Monis Ahmad**"
      ],
      "metadata": {
        "id": "beRrZCGUAJYm"
      }
    },
    {
      "cell_type": "markdown",
      "source": [
        "# **Project Summary -**"
      ],
      "metadata": {
        "id": "FJNUwmbgGyua"
      }
    },
    {
      "cell_type": "markdown",
      "source": [
        "1. The Hotel Bookings Analysis project entails examining a real-world dataset spanning from 2015 to 2017, containing booking data from both city and resort hotels. The process involves data cleaning, analysis, manipulation, and visualization. Initially, I imported necessary libraries with specific aliases in Google Colab, then mounted my Google Drive with the Colab notebook. Subsequently, I imported the downloaded hotel booking CSV file and utilized it as a DataFrame using the Pandas library. Data analysis and visualization will employ various Python libraries such as NumPy, Pandas, Matplotlib, and Seaborn.\n",
        "\n",
        "2. The dataset comprises 119,390 rows and 32 columns with object, integer, and float data types. It also includes 31,944 duplicate rows, which necessitate removal. Upon analyzing each column, it was discovered that 'company,' 'agent,' 'children,' and 'reserved_room_type' contain null values. 'Company' and 'agent' columns exhibit the highest number of null values and will be dropped. Null values in the 'country' and 'children' columns will be replaced with mode and mean values, respectively. Further analysis involves describing each variable and identifying unique values. Data wrangling ensues, removing outliers from columns like 'lead_time,' 'adr,' and 'days_in_waiting_list.' Additional data manipulation includes adding a 'total_stay' column using 'stays_in_weekend_nights' and 'stays_in_week_nights,' as well as a 'total_guest' column using 'adults,' 'children,' and 'babies.'\n",
        "\n",
        "3. Subsequently, visualization techniques will be employed to understand the relationships between variables. Univariate, Bivariate, and Multivariate analyses will be conducted using bar, count, pie, and other charts.\n",
        "\n",
        "4. Finally, the correlation between different variables will be determined using a heatmap, revealing the interrelationships within the dataset."
      ],
      "metadata": {
        "id": "F6v_1wHtG2nS"
      }
    },
    {
      "cell_type": "markdown",
      "source": [
        "# **GitHub Link -**"
      ],
      "metadata": {
        "id": "w6K7xa23Elo4"
      }
    },
    {
      "cell_type": "markdown",
      "source": [
        "______"
      ],
      "metadata": {
        "id": "h1o69JH3Eqqn"
      }
    },
    {
      "cell_type": "markdown",
      "source": [
        "# **Problem Statement**\n"
      ],
      "metadata": {
        "id": "yQaldy8SH6Dl"
      }
    },
    {
      "cell_type": "markdown",
      "source": [
        "Exploring the optimal time of year to book a hotel room, or determining the best length of stay for the most favorable daily rate, are questions many have considered. What if you wanted to forecast whether a hotel might experience an unusually high number of special requests? This hotel booking dataset provides a window into these inquiries! It encompasses booking details for both a city hotel and a resort hotel, including information such as booking dates, length of stay, count of adults, children, and/or infants, and availability of parking spaces, among other variables. Notably, all personally identifiable information has been removed from the dataset. Dive into the data and analyze it to uncover the key factors influencing hotel bookings.\n",
        "\n"
      ],
      "metadata": {
        "id": "DpeJGUA3kjGy"
      }
    },
    {
      "cell_type": "markdown",
      "source": [
        "#### **Define Your Business Objective?**"
      ],
      "metadata": {
        "id": "PH-0ReGfmX4f"
      }
    },
    {
      "cell_type": "markdown",
      "source": [
        "\n",
        "We are tasked with analyzing the provided hotel booking dataset to extract valuable insights for the business. These insights hold the potential to foster business growth, increase revenue generation, and mitigate losses.\n"
      ],
      "metadata": {
        "id": "PhDvGCAqmjP1"
      }
    },
    {
      "cell_type": "markdown",
      "source": [
        "# **General Guidelines** : -  "
      ],
      "metadata": {
        "id": "mDgbUHAGgjLW"
      }
    },
    {
      "cell_type": "markdown",
      "source": [
        "1.   Well-structured, formatted, and commented code is required.\n",
        "2.   Exception Handling, Production Grade Code & Deployment Ready Code will be a plus. Those students will be awarded some additional credits.\n",
        "     \n",
        "     The additional credits will have advantages over other students during Star Student selection.\n",
        "       \n",
        "             [ Note: - Deployment Ready Code is defined as, the whole .ipynb notebook should be executable in one go\n",
        "                       without a single error logged. ]\n",
        "\n",
        "3.   Each and every logic should have proper comments.\n",
        "4. You may add as many number of charts you want. Make Sure for each and every chart the following format should be answered.\n",
        "        \n",
        "\n",
        "```\n",
        "# Chart visualization code\n",
        "```\n",
        "            \n",
        "\n",
        "*   Why did you pick the specific chart?\n",
        "*   What is/are the insight(s) found from the chart?\n",
        "* Will the gained insights help creating a positive business impact?\n",
        "Are there any insights that lead to negative growth? Justify with specific reason.\n",
        "\n",
        "5. You have to create at least 20 logical & meaningful charts having important insights.\n",
        "\n",
        "\n",
        "[ Hints : - Do the Vizualization in  a structured way while following \"UBM\" Rule.\n",
        "\n",
        "U - Univariate Analysis,\n",
        "\n",
        "B - Bivariate Analysis (Numerical - Categorical, Numerical - Numerical, Categorical - Categorical)\n",
        "\n",
        "M - Multivariate Analysis\n",
        " ]\n",
        "\n",
        "\n",
        "\n"
      ],
      "metadata": {
        "id": "ZrxVaUj-hHfC"
      }
    },
    {
      "cell_type": "markdown",
      "source": [
        "# ***Let's Begin !***"
      ],
      "metadata": {
        "id": "O_i_v8NEhb9l"
      }
    },
    {
      "cell_type": "markdown",
      "source": [
        "## ***1. Know Your Data***"
      ],
      "metadata": {
        "id": "HhfV-JJviCcP"
      }
    },
    {
      "cell_type": "markdown",
      "source": [
        "### Import Libraries"
      ],
      "metadata": {
        "id": "Y3lxredqlCYt"
      }
    },
    {
      "cell_type": "code",
      "source": [
        "# Import Libraries\n",
        "import pandas as pd\n",
        "import numpy as np\n",
        "import matplotlib.pyplot as plt\n",
        "import seaborn as sns\n",
        "%matplotlib inline"
      ],
      "metadata": {
        "id": "M8Vqi-pPk-HR"
      },
      "execution_count": null,
      "outputs": []
    },
    {
      "cell_type": "markdown",
      "source": [
        "### Dataset Loading"
      ],
      "metadata": {
        "id": "3RnN4peoiCZX"
      }
    },
    {
      "cell_type": "code",
      "source": [
        "#mounting google drive\n",
        "from google.colab import drive\n",
        "drive.mount('/content/drive')"
      ],
      "metadata": {
        "id": "OZSeMC4CBRee"
      },
      "execution_count": null,
      "outputs": []
    },
    {
      "cell_type": "code",
      "source": [
        "# Load Dataset\n",
        "path='/content/drive/MyDrive/Hotel Bookings.csv'\n",
        "df=pd.read_csv(path)\n"
      ],
      "metadata": {
        "id": "4CkvbW_SlZ_R"
      },
      "execution_count": null,
      "outputs": []
    },
    {
      "cell_type": "markdown",
      "source": [
        "### Dataset First View"
      ],
      "metadata": {
        "id": "x71ZqKXriCWQ"
      }
    },
    {
      "cell_type": "code",
      "source": [
        "# Dataset First Look\n",
        "#get top 5 rows\n",
        "df.head()"
      ],
      "metadata": {
        "id": "LWNFOSvLl09H"
      },
      "execution_count": null,
      "outputs": []
    },
    {
      "cell_type": "code",
      "source": [
        "#get last 5 rows\n",
        "df.tail()"
      ],
      "metadata": {
        "id": "rvqeFCBODgpP"
      },
      "execution_count": null,
      "outputs": []
    },
    {
      "cell_type": "markdown",
      "source": [
        "### Dataset Rows & Columns count"
      ],
      "metadata": {
        "id": "7hBIi_osiCS2"
      }
    },
    {
      "cell_type": "code",
      "source": [
        "# Dataset Rows & Columns count\n",
        "df.shape"
      ],
      "metadata": {
        "id": "Kllu7SJgmLij"
      },
      "execution_count": null,
      "outputs": []
    },
    {
      "cell_type": "markdown",
      "source": [
        "The given dataset has **119390 Rows** and **32 Columns**"
      ],
      "metadata": {
        "id": "qwrz5siNm1Rp"
      }
    },
    {
      "cell_type": "markdown",
      "source": [
        "### Dataset Information"
      ],
      "metadata": {
        "id": "JlHwYmJAmNHm"
      }
    },
    {
      "cell_type": "code",
      "source": [
        "# Dataset Info\n",
        "df.info()"
      ],
      "metadata": {
        "id": "e9hRXRi6meOf"
      },
      "execution_count": null,
      "outputs": []
    },
    {
      "cell_type": "markdown",
      "source": [
        "while going through the info table, there are many columns which contains null/missing values"
      ],
      "metadata": {
        "id": "u_QuM5_qnQW7"
      }
    },
    {
      "cell_type": "markdown",
      "source": [
        "#### Duplicate Values"
      ],
      "metadata": {
        "id": "35m5QtbWiB9F"
      }
    },
    {
      "cell_type": "code",
      "source": [
        "# Dataset Duplicate Value Count\n",
        "df.duplicated().value_counts()"
      ],
      "metadata": {
        "id": "1sLdpKYkmox0"
      },
      "execution_count": null,
      "outputs": []
    },
    {
      "cell_type": "markdown",
      "source": [
        "The dataset contains 31944 duplicate rows"
      ],
      "metadata": {
        "id": "Kv3KLT4yn_BY"
      }
    },
    {
      "cell_type": "code",
      "source": [
        "#creating a copy of data set\n",
        "df1=df.copy()"
      ],
      "metadata": {
        "id": "UjUba-qQUBx3"
      },
      "execution_count": null,
      "outputs": []
    },
    {
      "cell_type": "code",
      "source": [
        "#droping all duplicate values\n",
        "df1.drop_duplicates(inplace=True)\n"
      ],
      "metadata": {
        "id": "mQo4mduoobyP"
      },
      "execution_count": null,
      "outputs": []
    },
    {
      "cell_type": "code",
      "source": [
        "#check shape after droping duplicate rows\n",
        "df1.shape"
      ],
      "metadata": {
        "id": "FHPYRyY9oKKR"
      },
      "execution_count": null,
      "outputs": []
    },
    {
      "cell_type": "markdown",
      "source": [
        ":After droping all duplicate rows, now we have **87396** **Rows** and **32 Columns** remaining.Now we will try to find out all missing/null values"
      ],
      "metadata": {
        "id": "ilDEkX3NpUE5"
      }
    },
    {
      "cell_type": "markdown",
      "source": [
        "#### Missing Values/Null Values"
      ],
      "metadata": {
        "id": "PoPl-ycgm1ru"
      }
    },
    {
      "cell_type": "code",
      "source": [
        "#check whether contains null value or not\n",
        "df1.isnull().any()"
      ],
      "metadata": {
        "id": "J1-gY4Kg61TZ"
      },
      "execution_count": null,
      "outputs": []
    },
    {
      "cell_type": "markdown",
      "source": [
        "This means that there are null values present in our data frame"
      ],
      "metadata": {
        "id": "9wTsRvrT7J4D"
      }
    },
    {
      "cell_type": "code",
      "source": [
        "# Missing Values/Null Values Count\n",
        "print('NUll Value Count in Each Column')\n",
        "print('-'*40)\n",
        "print(df1.isnull().sum().sort_values(ascending=False).head(5))\n",
        "print('-'*40)\n",
        "print('Percentage of null values')\n",
        "print('-'*40)\n",
        "(df1.isnull().sum()*100/len(df1)).sort_values(ascending=False).head(5)"
      ],
      "metadata": {
        "id": "GgHWkxvamxVg"
      },
      "execution_count": null,
      "outputs": []
    },
    {
      "cell_type": "markdown",
      "source": [
        "Here we found out that company,agent,country,children contains null value.Company and agent columns contains maximum null value.so we wil drop these two columns in future steps and we will replace null values in country and children column\n"
      ],
      "metadata": {
        "id": "mQGvhsNDEdXG"
      }
    },
    {
      "cell_type": "code",
      "source": [
        "# Visualizing the missing values\n",
        "plt.figure(figsize=(10,7))\n",
        "sns.heatmap(df1.isnull(),yticklabels=False,cbar=False,cmap='crest')\n",
        "plt.show()"
      ],
      "metadata": {
        "id": "3q5wnI3om9sJ"
      },
      "execution_count": null,
      "outputs": []
    },
    {
      "cell_type": "markdown",
      "source": [
        "Here we got missing values visualisation.It can be clearly seen the amout of mising value present in agent and company column"
      ],
      "metadata": {
        "id": "tXxkR_GwsM33"
      }
    },
    {
      "cell_type": "markdown",
      "source": [
        "### What did you know about your dataset?"
      ],
      "metadata": {
        "id": "H0kj-8xxnORC"
      }
    },
    {
      "cell_type": "markdown",
      "source": [
        "The given dataset gives booking information of two types hotet:\n",
        "1.   City Hotel\n",
        "2.   Resort Hotel\n",
        "* It gives us customer details like when did the customer booked the hotel,in which year,month,week number customer arrived and what was his total stay in the hotel.What type of meal customer opted and what type of room was alloted.\n",
        "* it also gives us some personal information like what is the customer type,from which country customer belongs to,was he/she alone or in a group,how many children/babies were there\n",
        "*it also provides information how customer booked the hotel and was there any special request made by the customer\n",
        "*it also provides information about the revenue generation by the hotel\n"
      ],
      "metadata": {
        "id": "gfoNAAC-nUe_"
      }
    },
    {
      "cell_type": "markdown",
      "source": [
        "## ***2. Understanding Your Variables***"
      ],
      "metadata": {
        "id": "nA9Y7ga8ng1Z"
      }
    },
    {
      "cell_type": "code",
      "source": [
        "# Dataset Columns\n",
        "df1.columns"
      ],
      "metadata": {
        "id": "j7xfkqrt5Ag5"
      },
      "execution_count": null,
      "outputs": []
    },
    {
      "cell_type": "code",
      "source": [
        "# Dataset Describe\n",
        "df1.describe()"
      ],
      "metadata": {
        "id": "DnOaZdaE5Q5t"
      },
      "execution_count": null,
      "outputs": []
    },
    {
      "cell_type": "markdown",
      "source": [
        "### Variables Description"
      ],
      "metadata": {
        "id": "PBTbrJXOngz2"
      }
    },
    {
      "cell_type": "markdown",
      "source": [
        "1.   Hotel:Two types of Hotels : City Hotel and Resort Hotel\n",
        "2.   is_canceled:if the booking was canceled (1) or not (0)\n",
        "3.   lead_time : How many days customer has booked the hotel in advance\n",
        "4. arrival_date_year: year of arrival date\n",
        "5. arrival_date_month : month of arrival date\n",
        "6. arrival_date_week_number:week number for arrival date\n",
        "7. arrival_date_day_of month: Day of arrival date\n",
        "8. stays_in_weekend_nights :Number of weekend nights (saturday or sunday) the guest satyed or booked to stay at the hotel\n",
        "9. stays_in_week_nights :Number of week nights (Monday to Friday) the guest satyed or booked to stay at the hotel\n",
        "10. adults :Number of adults\n",
        "11. children : Number of children\n",
        "12. babies : Number of babies\n",
        "13. meal :Kind of meal customer has Opted for in the hotel\n",
        "* BB :- Bed & Breakfast  \n",
        "* FB :- Full Board (Beakfast, Lunch and Dinner)\n",
        "* HB :- Half Board (Breakfast and Dinner normally)\n",
        "* SC/Undefined  :- no meal opted\n",
        "14. Country: Code of the country customer belongs to\n",
        "15. market_segment :which segment the customer belongs to\n",
        "16. distribution_channel :How the customer has done booking direct/TA/TO\n",
        "17. is_repeated_guest :Guest coming first time (0) or not (1)\n",
        "18. previous_cancellations :Number of booking canceled by the customer prior to current booking\n",
        "19. previous_bookings_not_canceled :count of previous booking sucessfully made by the customer\n",
        "20. reserved_room_type :Type of room reserved by the customer\n",
        "21. assigned_room_type : Type of room assigned to the customer\n",
        "22. booking_changes :count of changes made to booking\n",
        "23. deposit_type : Deposit type opted by the customer\n",
        "24. agent :ID of travel agent who has made the booking\n",
        "25. company :ID of company that made booking\n",
        "26. customer_type :Type of customer\n",
        "* Transient :when the booking is not part of a group or contract, and is not associated to other transient booking\n",
        "* Contract:when the booking has any type of contract associated with it\n",
        "* Transient_party:when the booking is transient but is associated with at least another transient booking\n",
        "* Group: when the booking is associated with a group\n",
        "27. days_in_waiting_list:Number of days customer had to wait to get booking confirm\n",
        "28. adr :A hotel’s ADR, (Average Daily Rate) is the measure of the average rate paid per room that’s occupied at the property\n",
        "29. required_car_parking_spaces :if car parking is required\n",
        "30. total_of_special_requests :  Number of additional special requests made by the customer\n",
        "31. reservation_status :Reservation status whether the customer has checked-in or cancelled or not shown.\n",
        "32. reservation_status_date :Date at which last reservation status was made\n",
        "\n",
        "\n",
        "\n"
      ],
      "metadata": {
        "id": "aJV4KIxSnxay"
      }
    },
    {
      "cell_type": "markdown",
      "source": [
        "### Check Unique Values for each variable."
      ],
      "metadata": {
        "id": "u3PMJOP6ngxN"
      }
    },
    {
      "cell_type": "code",
      "source": [
        "# Check Unique Values for each variable.\n",
        "for col in df1.columns:\n",
        "  print(f'\\033[1m Unique values of {col} .\\033[0m ',df1[col].unique())"
      ],
      "metadata": {
        "id": "SY7OVEpguPNQ"
      },
      "execution_count": null,
      "outputs": []
    },
    {
      "cell_type": "code",
      "source": [
        "# Checking Unique Values for hotel column.\n",
        "df1['hotel'].unique()"
      ],
      "metadata": {
        "id": "p5BLuBwa5I5b"
      },
      "execution_count": null,
      "outputs": []
    },
    {
      "cell_type": "markdown",
      "source": [
        "Two types of hotel in dataset"
      ],
      "metadata": {
        "id": "PKyBbF_Q2qwd"
      }
    },
    {
      "cell_type": "code",
      "source": [
        "#unique value of is_canceled column\n",
        "list(df1['is_canceled'].unique())"
      ],
      "metadata": {
        "id": "zms12Yq5n-jE"
      },
      "execution_count": null,
      "outputs": []
    },
    {
      "cell_type": "markdown",
      "source": [
        "1 means that booking was cancelled and 0 means not cancelled"
      ],
      "metadata": {
        "id": "I3BPhndJHb8x"
      }
    },
    {
      "cell_type": "code",
      "source": [
        "#unique values of arrival_date_year column\n",
        "df1['arrival_date_year'].unique()"
      ],
      "metadata": {
        "id": "apsVswC1Gtqr"
      },
      "execution_count": null,
      "outputs": []
    },
    {
      "cell_type": "markdown",
      "source": [
        "3 year of booking data"
      ],
      "metadata": {
        "id": "ZYytqR-nHxIF"
      }
    },
    {
      "cell_type": "code",
      "source": [
        "#unique values of stays_in_week_nights column\n",
        "df1['stays_in_week_nights'].unique()"
      ],
      "metadata": {
        "id": "ZavwE0MfGtlL"
      },
      "execution_count": null,
      "outputs": []
    },
    {
      "cell_type": "markdown",
      "source": [
        "Number of week nights Monday to Friday the guest stayed or booked to stay at the hotel"
      ],
      "metadata": {
        "id": "YgaNRVjpKMA1"
      }
    },
    {
      "cell_type": "code",
      "source": [
        "#unique values of stays_in_weekend_nights column\n",
        "df1['stays_in_weekend_nights'].unique()"
      ],
      "metadata": {
        "id": "wIUflSX1GteQ"
      },
      "execution_count": null,
      "outputs": []
    },
    {
      "cell_type": "markdown",
      "source": [
        "Number of weekend nights (saturday/sanday) the guest stayed or booked to stayed at the hotel"
      ],
      "metadata": {
        "id": "5i8cvlT2JJ92"
      }
    },
    {
      "cell_type": "code",
      "source": [
        "#unique values of adults column\n",
        "df1['adults'].unique()"
      ],
      "metadata": {
        "id": "IZZ3VngqGtYV"
      },
      "execution_count": null,
      "outputs": []
    },
    {
      "cell_type": "markdown",
      "source": [
        "Number of adults"
      ],
      "metadata": {
        "id": "E84aSbNqFaIt"
      }
    },
    {
      "cell_type": "code",
      "source": [
        "#unique values of children column\n",
        "df1['children'].unique()"
      ],
      "metadata": {
        "id": "68viVBRmGtOY"
      },
      "execution_count": null,
      "outputs": []
    },
    {
      "cell_type": "markdown",
      "source": [
        "**children column contains null value.so we will replace it with mean value**"
      ],
      "metadata": {
        "id": "mRXmjqi1K-nA"
      }
    },
    {
      "cell_type": "code",
      "source": [
        "# since the nan value present in children is very small so, we will replace children nan vlaue with mean value\n",
        "df1['children'].fillna(df['children'].mean(),inplace=True)"
      ],
      "metadata": {
        "id": "GxqPl5i8GtAi"
      },
      "execution_count": null,
      "outputs": []
    },
    {
      "cell_type": "code",
      "source": [
        "#checking again nan value in children column\n",
        "df1['children'].isnull().value_counts()"
      ],
      "metadata": {
        "id": "AydT-EsRVWKA"
      },
      "execution_count": null,
      "outputs": []
    },
    {
      "cell_type": "code",
      "source": [
        "#unique values of babies column\n",
        "df1['babies'].unique()"
      ],
      "metadata": {
        "id": "-QjVQlMLOQ7X"
      },
      "execution_count": null,
      "outputs": []
    },
    {
      "cell_type": "markdown",
      "source": [
        "Number of Babies\n"
      ],
      "metadata": {
        "id": "cE4noOw2FnRU"
      }
    },
    {
      "cell_type": "code",
      "source": [
        "#unique values of mealcolumn\n",
        "df1['meal'].unique()"
      ],
      "metadata": {
        "id": "Yv0rPEa7OQqG"
      },
      "execution_count": null,
      "outputs": []
    },
    {
      "cell_type": "markdown",
      "source": [
        "Type of meal opted by the customer"
      ],
      "metadata": {
        "id": "7aREVxrbFwHJ"
      }
    },
    {
      "cell_type": "code",
      "source": [
        "#unique values of country column\n",
        "df1['country'].unique()"
      ],
      "metadata": {
        "id": "S9R58ubFOQcb"
      },
      "execution_count": null,
      "outputs": []
    },
    {
      "cell_type": "markdown",
      "source": [
        "Code of the country customer belongs to.It also contains **nan/missing values**"
      ],
      "metadata": {
        "id": "YBMINEWLF4Ba"
      }
    },
    {
      "cell_type": "code",
      "source": [
        "#replacing all null values present in country column with mode\n",
        "df1['country'].fillna(df['country'].mode()[0],inplace=True)\n",
        "#checking again for null values\n",
        "df1.country.isnull().value_counts()"
      ],
      "metadata": {
        "id": "GwuG_RS2OQTh"
      },
      "execution_count": null,
      "outputs": []
    },
    {
      "cell_type": "code",
      "source": [
        "#unique values of market_segment column\n",
        "df1['market_segment'].unique()"
      ],
      "metadata": {
        "id": "Dt8x_C6VOQHu"
      },
      "execution_count": null,
      "outputs": []
    },
    {
      "cell_type": "code",
      "source": [
        "#unique values of distribution_channel column\n",
        "df1['distribution_channel'].unique()"
      ],
      "metadata": {
        "id": "-Pq3i5mPZTWU"
      },
      "execution_count": null,
      "outputs": []
    },
    {
      "cell_type": "code",
      "source": [
        "\n",
        "#unique values of is_repeated_guest column\n",
        "df1['is_repeated_guest'].unique()"
      ],
      "metadata": {
        "id": "kUMmcbNHZTRa"
      },
      "execution_count": null,
      "outputs": []
    },
    {
      "cell_type": "markdown",
      "source": [
        "Guest coming first time or not\n",
        "0 means first visit\n",
        "1 means repeated customer"
      ],
      "metadata": {
        "id": "4PZQkAQDcG0C"
      }
    },
    {
      "cell_type": "code",
      "source": [
        "#unique values of previous_cancellations column\n",
        "df1['previous_cancellations'].unique()"
      ],
      "metadata": {
        "id": "OZXCHnfrZTNr"
      },
      "execution_count": null,
      "outputs": []
    },
    {
      "cell_type": "markdown",
      "source": [
        "Number of booking cancelled by the customer prior to current booking"
      ],
      "metadata": {
        "id": "RwmDNAgRcgxj"
      }
    },
    {
      "cell_type": "code",
      "source": [
        "#unique values of previous_bookings_not_canceled column\n",
        "df1['previous_bookings_not_canceled'].unique()"
      ],
      "metadata": {
        "id": "MNPMVQwmZTKJ"
      },
      "execution_count": null,
      "outputs": []
    },
    {
      "cell_type": "markdown",
      "source": [
        "count of previous booking sucessfully made by the customer"
      ],
      "metadata": {
        "id": "TZxH5R-ec9Qv"
      }
    },
    {
      "cell_type": "code",
      "source": [
        "#unique values of reserved_room_type column\n",
        "df1['reserved_room_type'].unique()"
      ],
      "metadata": {
        "id": "DgogoDPMZTGh"
      },
      "execution_count": null,
      "outputs": []
    },
    {
      "cell_type": "markdown",
      "source": [
        "Types of room reserved by the customer"
      ],
      "metadata": {
        "id": "gwXF37ugdZb6"
      }
    },
    {
      "cell_type": "code",
      "source": [
        "#unique values of assigned_room_type column\n",
        "df1['assigned_room_type'].unique()"
      ],
      "metadata": {
        "id": "9Zh2plsAZTCC"
      },
      "execution_count": null,
      "outputs": []
    },
    {
      "cell_type": "markdown",
      "source": [
        "Type of room assigned to the customer"
      ],
      "metadata": {
        "id": "vC0zLZp_8NvX"
      }
    },
    {
      "cell_type": "code",
      "source": [
        "#unique values of booking_changes column\n",
        "df1['booking_changes'].unique()"
      ],
      "metadata": {
        "id": "tIxHjPuDZS8s"
      },
      "execution_count": null,
      "outputs": []
    },
    {
      "cell_type": "markdown",
      "source": [
        "number of times booking changed by the customer"
      ],
      "metadata": {
        "id": "hzpp2JB-d_JS"
      }
    },
    {
      "cell_type": "code",
      "source": [
        "#unique values of deposit_type column\n",
        "df1['deposit_type'].unique()"
      ],
      "metadata": {
        "id": "dIJxwxQUZS5J"
      },
      "execution_count": null,
      "outputs": []
    },
    {
      "cell_type": "markdown",
      "source": [
        "**Since there are too many null values present in the agent and company column so we will drop these two columns from our datasets**"
      ],
      "metadata": {
        "id": "1uN-0_Fr8c07"
      }
    },
    {
      "cell_type": "code",
      "source": [
        "#droping agent and company column\n",
        "df1.drop(['agent','company'],axis=1,inplace=True)"
      ],
      "metadata": {
        "id": "puAFTIBtZSwc"
      },
      "execution_count": null,
      "outputs": []
    },
    {
      "cell_type": "code",
      "source": [
        "#unique values of adr column\n",
        "df1['adr'].unique()"
      ],
      "metadata": {
        "id": "kaaeYhEuZSiX"
      },
      "execution_count": null,
      "outputs": []
    },
    {
      "cell_type": "code",
      "source": [
        "#unique values of customer_type column\n",
        "df1['customer_type'].unique()"
      ],
      "metadata": {
        "id": "tQvVhtiughhj"
      },
      "execution_count": null,
      "outputs": []
    },
    {
      "cell_type": "markdown",
      "source": [
        "* Transient :when the booking is not part of a group or contract, and is not associated to other transient booking\n",
        "* Contract:when the booking has any type of contract associated with it\n",
        "* Transient_party:when the booking is transient but is associated with at least another transient booking\n",
        "* Group: when the booking is associated with a group\n"
      ],
      "metadata": {
        "id": "EZU-20Cqg5WA"
      }
    },
    {
      "cell_type": "code",
      "source": [
        "#unique values of days_in_waiting_list column\n",
        "df1['days_in_waiting_list'].unique()"
      ],
      "metadata": {
        "id": "m6bkXyXhekLG"
      },
      "execution_count": null,
      "outputs": []
    },
    {
      "cell_type": "markdown",
      "source": [
        "Number of days customer had to wait to get booking confirm"
      ],
      "metadata": {
        "id": "0WE1dQLB-rfQ"
      }
    },
    {
      "cell_type": "code",
      "source": [
        "#unique values of required_car_parking_spaces column\n",
        "df1['required_car_parking_spaces'].unique()"
      ],
      "metadata": {
        "id": "Eo0z3i9xgFAD"
      },
      "execution_count": null,
      "outputs": []
    },
    {
      "cell_type": "markdown",
      "source": [
        "number of parking space requied"
      ],
      "metadata": {
        "id": "aNHQiRYe_Jrz"
      }
    },
    {
      "cell_type": "code",
      "source": [
        "#unique values of total_of_special_requests column\n",
        "df1['total_of_special_requests'].unique()"
      ],
      "metadata": {
        "id": "zo9weuCx_XKv"
      },
      "execution_count": null,
      "outputs": []
    },
    {
      "cell_type": "markdown",
      "source": [
        "Number of additional special request required"
      ],
      "metadata": {
        "id": "r3AeJgLg_dDq"
      }
    },
    {
      "cell_type": "code",
      "source": [
        "#unique values of reservation_status column\n",
        "df1['reservation_status'].unique()"
      ],
      "metadata": {
        "id": "t8MvBWOj_x2t"
      },
      "execution_count": null,
      "outputs": []
    },
    {
      "cell_type": "code",
      "source": [
        "#after removing all null values from the dataset and droping some of the columns we will visualize the dataset\n",
        "# using heat map\n",
        "sns.heatmap(df1.isnull(),cbar=False,cmap='RdGy',yticklabels=False)\n",
        "plt.show()"
      ],
      "metadata": {
        "id": "78t3QlaSgEyM"
      },
      "execution_count": null,
      "outputs": []
    },
    {
      "cell_type": "markdown",
      "source": [
        "## 3. ***Data Wrangling***"
      ],
      "metadata": {
        "id": "dauF4eBmngu3"
      }
    },
    {
      "cell_type": "markdown",
      "source": [
        "### Data Wrangling Code"
      ],
      "metadata": {
        "id": "bKJF3rekwFvQ"
      }
    },
    {
      "cell_type": "code",
      "source": [
        "df1['lead_time'].dtype"
      ],
      "metadata": {
        "id": "XuZgv_WE1F5O"
      },
      "execution_count": null,
      "outputs": []
    },
    {
      "cell_type": "code",
      "source": [
        "categorical_col=[]\n",
        "discrete_col=[]\n",
        "continous_col=[]\n",
        "for col in df1.columns:\n",
        "  if df1[col].dtype=='o':\n",
        "    categorical_col.append(col)\n",
        "  elif len(df1[col].unique())<=10:\n",
        "    discrete_col.append(col)\n",
        "  else:\n",
        "    continous_col.append(col)\n",
        "\n"
      ],
      "metadata": {
        "id": "bhTItOL71d9a"
      },
      "execution_count": null,
      "outputs": []
    },
    {
      "cell_type": "code",
      "source": [
        "# Write your code to make your dataset analysis ready.\n",
        "#finding out outlier in each column\n",
        "plt.rc('font', size=15)\n",
        "plt.figure(figsize=(30,15))\n",
        "sns.boxplot(data=df1[['is_canceled','lead_time','arrival_date_week_number','adults','babies','previous_cancellations','booking_changes','days_in_waiting_list','adr','total_of_special_requests']])\n",
        "plt.show()"
      ],
      "metadata": {
        "id": "wk-9a2fpoLcV"
      },
      "execution_count": null,
      "outputs": []
    },
    {
      "cell_type": "code",
      "source": [
        "#After checking for each column only in these columns outliers are present\n",
        "#lead_time, adr, days_in_waiting_list\n",
        "plt.rc('font', size=20)\n",
        "plt.figure(figsize=(30,15))\n",
        "sns.boxplot(data=df1[['lead_time','adr','days_in_waiting_list']])\n",
        "plt.show()"
      ],
      "metadata": {
        "id": "htEI0d_zx3wc"
      },
      "execution_count": null,
      "outputs": []
    },
    {
      "cell_type": "code",
      "source": [
        "#removing outlier\n",
        "def removing_outlier(col):\n",
        "  sorted(col)\n",
        "  q1,q3=col.quantile([0.25,0.75])  # Quantile function divides the dataset in 25% and 75%\n",
        "  IQR=q3-q1                          #Interquartile range\n",
        "  lwr_bound=q1-(1.5*IQR)\n",
        "  upr_bound=q3+(1.5*IQR)\n",
        "  return lwr_bound,upr_bound"
      ],
      "metadata": {
        "id": "RLXn7zBLyHes"
      },
      "execution_count": null,
      "outputs": []
    },
    {
      "cell_type": "code",
      "source": [
        "#removing outlier from lead_time column\n",
        "low,high=removing_outlier(df1['lead_time'])\n",
        "df1['lead_time']=np.where(df1['lead_time']> high,high,df1['lead_time'])\n",
        "df1['lead_time']=np.where(df1['lead_time']< low,low,df1['lead_time'])\n",
        "#removing outlier from adr column\n",
        "low,high=removing_outlier(df1['adr'])\n",
        "df1['adr']=np.where(df1['adr']> high,high,df1['adr'])\n",
        "df1['adr']=np.where(df1['adr']< low,low,df1['adr'])\n",
        "#removing outlier from days_in_waiting list\n",
        "low,high=removing_outlier(df1['days_in_waiting_list'])\n",
        "df1['days_in_waiting_list']=np.where(df1['days_in_waiting_list']> high,high,df1['days_in_waiting_list'])\n",
        "df1['days_in_waiting_list']=np.where(df1['days_in_waiting_list']< low,low,df1['days_in_waiting_list'])"
      ],
      "metadata": {
        "id": "y12TGLOKB8pg"
      },
      "execution_count": null,
      "outputs": []
    },
    {
      "cell_type": "code",
      "source": [
        "#after removing outlier\n",
        "sns.set_style('whitegrid')\n",
        "plt.rc('font',size=20)\n",
        "plt.figure(figsize=(10,5))\n",
        "sns.boxplot(data=df1[['lead_time','adr','days_in_waiting_list']])\n",
        "plt.show()"
      ],
      "metadata": {
        "id": "QivJBt_1CFdl"
      },
      "execution_count": null,
      "outputs": []
    },
    {
      "cell_type": "code",
      "source": [
        "# Adding 'total_stay' column using 'stays_in_weekend_nights' & 'stays_in_week_nights' columns\n",
        "df1['total_stay'] = df1['stays_in_weekend_nights'] + df1['stays_in_week_nights']"
      ],
      "metadata": {
        "id": "hHGpbz8w3Vb6"
      },
      "execution_count": null,
      "outputs": []
    },
    {
      "cell_type": "code",
      "source": [
        "#adding 'total_guest' column using 'aduts','children' and 'babies' columns\n",
        "df1['total_guests']=df1['adults']+df1['children']+df1['babies']"
      ],
      "metadata": {
        "id": "rGlL2-qG3VNo"
      },
      "execution_count": null,
      "outputs": []
    },
    {
      "cell_type": "code",
      "source": [
        "#adding revenue column\n",
        "df1['revenue']=df1['total_stay']*df['adr']"
      ],
      "metadata": {
        "id": "F02pdiz785VM"
      },
      "execution_count": null,
      "outputs": []
    },
    {
      "cell_type": "code",
      "source": [
        "#meal contains undefined column which is same as 'SC' so we will combine them\n",
        "df1['meal'].replace('Undefined','SC',inplace=True)"
      ],
      "metadata": {
        "id": "i4KSVxIf7t7y"
      },
      "execution_count": null,
      "outputs": []
    },
    {
      "cell_type": "code",
      "source": [
        "#find out most common meal type in percentage\n",
        "df1.meal.value_counts(normalize=True)*100"
      ],
      "metadata": {
        "id": "3XWqh7zFCE7P"
      },
      "execution_count": null,
      "outputs": []
    },
    {
      "cell_type": "markdown",
      "source": [
        "Bed & Breakfast is most prefered meal type"
      ],
      "metadata": {
        "id": "Vrqx84mY7YTq"
      }
    },
    {
      "cell_type": "code",
      "source": [
        "#most common hotel booked in %age\n",
        "df1.hotel.value_counts(normalize=True)*100"
      ],
      "metadata": {
        "id": "3K1cGWpkmlDT"
      },
      "execution_count": null,
      "outputs": []
    },
    {
      "cell_type": "markdown",
      "source": [
        "City hotel mostly booked by the customers"
      ],
      "metadata": {
        "id": "1XG6pBy-7ieP"
      }
    },
    {
      "cell_type": "code",
      "source": [
        "# in which year maximun customer has arrived / peak year for booking\n",
        "df1.arrival_date_year.value_counts(normalize=True)*100"
      ],
      "metadata": {
        "id": "gCOp6I2bolbm"
      },
      "execution_count": null,
      "outputs": []
    },
    {
      "cell_type": "markdown",
      "source": [
        "So 2016 is the peak year of booking"
      ],
      "metadata": {
        "id": "04oWaI_T1q_Z"
      }
    },
    {
      "cell_type": "code",
      "source": [
        "# peak month of booking where maximun customer arrived\n",
        "df1.arrival_date_month.value_counts()"
      ],
      "metadata": {
        "id": "1i4LUWILpKEM"
      },
      "execution_count": null,
      "outputs": []
    },
    {
      "cell_type": "markdown",
      "source": [
        "August is the peak month of booking"
      ],
      "metadata": {
        "id": "v45jERxL1wvp"
      }
    },
    {
      "cell_type": "code",
      "source": [
        "#from which country maximum guest arrived\n",
        "df1.country.value_counts()"
      ],
      "metadata": {
        "id": "vD8i9XcApJ9M"
      },
      "execution_count": null,
      "outputs": []
    },
    {
      "cell_type": "markdown",
      "source": [
        "Portugal,Great Britain,France,spain are the countries from where maximun customer arrived"
      ],
      "metadata": {
        "id": "U99NeSty2Iiw"
      }
    },
    {
      "cell_type": "code",
      "source": [
        "#most common customer type\n",
        "df1.customer_type.value_counts(normalize=True)*100"
      ],
      "metadata": {
        "id": "qgeNNstlpJv5"
      },
      "execution_count": null,
      "outputs": []
    },
    {
      "cell_type": "markdown",
      "source": [
        "Transient type of customers has done maximum booking"
      ],
      "metadata": {
        "id": "9TEpkCCH8Kaz"
      }
    },
    {
      "cell_type": "code",
      "source": [
        "#is repeated guest or not\n",
        "df1.is_repeated_guest.value_counts(normalize=True)*100"
      ],
      "metadata": {
        "id": "LhuN2ZiFpJgo"
      },
      "execution_count": null,
      "outputs": []
    },
    {
      "cell_type": "markdown",
      "source": [
        "Most of the guest has first time visit to the hotel"
      ],
      "metadata": {
        "id": "Jf2SmR0t2ayi"
      }
    },
    {
      "cell_type": "code",
      "source": [
        "#which room is mostly assigned to customers\n",
        "df1.assigned_room_type.value_counts(normalize=True)*100"
      ],
      "metadata": {
        "id": "RcMl7eXUreSD"
      },
      "execution_count": null,
      "outputs": []
    },
    {
      "cell_type": "markdown",
      "source": [
        "A type room is the mostly assigned to the customer"
      ],
      "metadata": {
        "id": "H4aUtAVR2o5Z"
      }
    },
    {
      "cell_type": "code",
      "source": [
        "#which hotel has highest booking cancelation\n",
        "cancel=df1[df1['is_canceled']==1].groupby('hotel')\n",
        "x1=pd.DataFrame(cancel.size()).rename(columns={0:'canceled_booking'})\n",
        "total_booking=df1.groupby('hotel')\n",
        "x2=pd.DataFrame(total_booking.size()).rename(columns={0:'total_booking'})\n",
        "result=pd.concat([x1,x2],axis=1)\n",
        "result['%age_cancelation']=round((result['canceled_booking']/result['total_booking'])*100,2)\n",
        "result"
      ],
      "metadata": {
        "id": "VKVms9rDH5WD"
      },
      "execution_count": null,
      "outputs": []
    },
    {
      "cell_type": "code",
      "source": [
        "# average adr of each hotel type\n",
        "avg_adr = total_booking['adr'].agg(np.mean).reset_index().rename(columns = {'adr':'avg_adr'})\n",
        "avg_adr"
      ],
      "metadata": {
        "id": "QCbVcFUoHraO"
      },
      "execution_count": null,
      "outputs": []
    },
    {
      "cell_type": "markdown",
      "source": [
        "### What all manipulations have you done and insights you found?"
      ],
      "metadata": {
        "id": "MSa1f5Uengrz"
      }
    },
    {
      "cell_type": "markdown",
      "source": [
        "\n",
        "\n",
        "*   Firstly of all i found out outliers present in each column and it was found out that out that lead_time,adr,days_in_waiting_list columns has larger outlier present.Then i removed the outlier from each of these columns\n",
        "* I Added 'total_stay' column using 'stays_in_weekend_nights' & 'stays_in_week_nights' columns and  'total_guests' column using 'aduts','children' and 'babies' columns\n",
        "* Then i analysed all the columns and it was found out that :    \n",
        "*   Around 77% customers has opted for BB type meal\n",
        "*   Around 61% customers booked city hotel with maximun average adr\n",
        "* 2016 and August was the peak year and month respectively for the booking\n",
        "*Maximum number of customer came from portugal followed by Great Britain,Fance and spain\n",
        "* Around 72% customers were Transient type\n",
        "* Around 97% of the customers were having first booking to the hotel\n",
        "* A type room was assigned to around 52% of the customer\n",
        "* city hotel was having maximum cancelation of the booking (around 30%)\n",
        "\n"
      ],
      "metadata": {
        "id": "LbyXE7I1olp8"
      }
    },
    {
      "cell_type": "markdown",
      "source": [
        "## ***4. Data Vizualization, Storytelling & Experimenting with charts : Understand the relationships between variables***"
      ],
      "metadata": {
        "id": "GF8Ens_Soomf"
      }
    },
    {
      "cell_type": "markdown",
      "source": [
        "#### Chart - 1 **Find out Which Type Hotel Is Booked by the Customer**"
      ],
      "metadata": {
        "id": "0wOQAZs5pc--"
      }
    },
    {
      "cell_type": "code",
      "source": [
        "# Chart - 1 visualization code\n",
        "#using histogram to plot 'Hotel Booking'\n",
        "sns.set_style('whitegrid')\n",
        "plt.rc('font',size=10)\n",
        "plt.figure(figsize=(5,5))\n",
        "df1['hotel'].hist()\n",
        "plt.title('Type of Hotel Booked',fontsize=15)\n",
        "plt.show()\n",
        "#using pie chats to plot percentage of booking\n",
        "plt.pie(x=df1.hotel.value_counts(),explode=[0.01,0],labels=['City Hotel','Resort Hotel'],autopct=\"%0.1f%%\",shadow=True,textprops={'fontsize':13})\n",
        "plt.legend(bbox_to_anchor=(1,1))\n",
        "plt.title('Type of Hotel Booked',fontsize=16)\n",
        "plt.show()"
      ],
      "metadata": {
        "id": "L5HivM3Io6K6"
      },
      "execution_count": null,
      "outputs": []
    },
    {
      "cell_type": "markdown",
      "source": [
        "##### 1. Why did you pick the specific chart?"
      ],
      "metadata": {
        "id": "K5QZ13OEpz2H"
      }
    },
    {
      "cell_type": "markdown",
      "source": [
        "**I picked up Histogram and pie chart to analyse which type of hotel has maximun booking and by how much percentage**"
      ],
      "metadata": {
        "id": "XESiWehPqBRc"
      }
    },
    {
      "cell_type": "markdown",
      "source": [
        "##### 2. What is/are the insight(s) found from the chart?"
      ],
      "metadata": {
        "id": "lQ7QKXXCp7Bj"
      }
    },
    {
      "cell_type": "markdown",
      "source": [
        "**I found out that City hotel is very commonly booked by the customers and around 61% of customer has booked this hotel over a period of 3 years**"
      ],
      "metadata": {
        "id": "C_j1G7yiqdRP"
      }
    },
    {
      "cell_type": "markdown",
      "source": [
        "##### 3. Will the gained insights help creating a positive business impact?\n",
        "Are there any insights that lead to negative growth? Justify with specific reason.\n",
        "* **From the above observation i think Resort hotel might be little expensive as compared to city hotel, if that is true then resort hotel needs update the price or they can can add other offers with the hotel booking in order to attract more customers**  \n",
        "* **city hotel can also provide more offers so that customers can do repeated booking**  \n",
        "\n",
        "\n",
        "\n"
      ],
      "metadata": {
        "id": "448CDAPjqfQr"
      }
    },
    {
      "cell_type": "markdown",
      "source": [
        "#### Chart -2 **Preferred Meal Type**"
      ],
      "metadata": {
        "id": "KSlN3yHqYklG"
      }
    },
    {
      "cell_type": "code",
      "source": [
        "# Chart - 2 visualization code\n",
        "#univariate analysis\n",
        "#using seaborn countplot to plot Meal\n",
        "sns.set_style('whitegrid')\n",
        "plt.figure(figsize=(10,7))\n",
        "sns.countplot(x=df1['meal'])\n",
        "plt.xlabel('Meal Type',fontsize=20)\n",
        "plt.title('Preferred Meal Type',fontsize=20)\n",
        "plt.show()\n"
      ],
      "metadata": {
        "id": "R4YgtaqtYklH"
      },
      "execution_count": null,
      "outputs": []
    },
    {
      "cell_type": "code",
      "source": [
        "#using pie chart to show percentage distribution\n",
        "plt.figure(figsize=(7,7))\n",
        "plt.pie(x=df1.meal.value_counts(),explode=[0,0,0,0],labels=['BB','SC','HB','FB'],autopct=\"%0.1f%%\",shadow=True,textprops={'fontsize':13})\n",
        "plt.legend(bbox_to_anchor=(1,1))\n",
        "plt.title('Preferred Meal Type',fontsize=15)\n",
        "plt.show()"
      ],
      "metadata": {
        "id": "HTVXtjqTvYfz"
      },
      "execution_count": null,
      "outputs": []
    },
    {
      "cell_type": "markdown",
      "source": [
        "##### 1. Why did you pick the specific chart?"
      ],
      "metadata": {
        "id": "t6dVpIINYklI"
      }
    },
    {
      "cell_type": "markdown",
      "source": [
        "**I picked up seaborn count plot and pie chart to show the distribution of meal type.Which one is mostly opted by the customers**"
      ],
      "metadata": {
        "id": "5aaW0BYyYklI"
      }
    },
    {
      "cell_type": "markdown",
      "source": [
        "##### 2. What is/are the insight(s) found from the chart?"
      ],
      "metadata": {
        "id": "ijmpgYnKYklI"
      }
    },
    {
      "cell_type": "markdown",
      "source": [
        "**As i picked up countplot and pie chart.It showed that Bed & Breakfast is moslty opted by the customers in the hotel and around 78% of the customers has opted this meal**"
      ],
      "metadata": {
        "id": "PSx9atu2YklI"
      }
    },
    {
      "cell_type": "markdown",
      "source": [
        "##### 3. Will the gained insights help creating a positive business impact?\n",
        "Are there any insights that lead to negative growth? Justify with specific reason."
      ],
      "metadata": {
        "id": "-JiQyfWJYklI"
      }
    },
    {
      "cell_type": "markdown",
      "source": [
        "**As BB is mostly opted by the customers.The Hotel management can provide any attractive offers for the customes who are opting for BB to go with HB or With FB,that will eventually add up the revenue.And those who are not opting for any kind of meal,the management should try to convince then atleast to go with BB by offering any discounts or any other special offers**"
      ],
      "metadata": {
        "id": "BcBbebzrYklV"
      }
    },
    {
      "cell_type": "markdown",
      "source": [
        "#### Chart-3 **Peak Year of Booking**"
      ],
      "metadata": {
        "id": "emqIDaTRU252"
      }
    },
    {
      "cell_type": "code",
      "source": [
        "# Chart - 3 visualization code\n",
        "# To find out peak year of booking\n",
        "#bivariate analysis\n",
        "plt.figure(figsize=(15,7))\n",
        "sns.set_style('whitegrid')\n",
        "plt.rc('font',size=15)\n",
        "sns.countplot(x='arrival_date_year',data=df1,hue='hotel')\n",
        "plt.legend()\n",
        "plt.title('Peak year of Booking',fontsize=20)\n",
        "plt.xlabel('year',fontsize=20)\n",
        "plt.ylabel('No. of bookings',fontsize=20)\n",
        "plt.show()"
      ],
      "metadata": {
        "id": "MZ3m7ZIQU-1V"
      },
      "execution_count": null,
      "outputs": []
    },
    {
      "cell_type": "markdown",
      "source": [
        "#### Why did you Picked up specific Chart?\n"
      ],
      "metadata": {
        "id": "cklgqoLAVTM5"
      }
    },
    {
      "cell_type": "markdown",
      "source": [
        "**I have select count plot to find out peak year of booking**"
      ],
      "metadata": {
        "id": "W9dUFDWcVcug"
      }
    },
    {
      "cell_type": "markdown",
      "source": [
        "##### 2. What is/are the insight(s) found from the chart?"
      ],
      "metadata": {
        "id": "Dm6YkvW3YM3N"
      }
    },
    {
      "cell_type": "markdown",
      "source": [
        "**It has been found out that 2016 was the peak year for both the hotels**"
      ],
      "metadata": {
        "id": "JE_5L1k-YMmU"
      }
    },
    {
      "cell_type": "markdown",
      "source": [
        "##### 3. Will the gained insights help creating a positive business impact?\n",
        "Are there any insights that lead to negative growth? Justify with specific reason."
      ],
      "metadata": {
        "id": "ab5RtiarYMZW"
      }
    },
    {
      "cell_type": "markdown",
      "source": [
        "**Both the Hotels has Earned more revenue in year 2016 but the booking has decreased in 2017 so hotel management needs to look into this matter**"
      ],
      "metadata": {
        "id": "dV5uRh5XYMHB"
      }
    },
    {
      "cell_type": "markdown",
      "source": [
        "#### Chart - 4 **Peak Month of Booking**"
      ],
      "metadata": {
        "id": "N6pCeLS_Y6vV"
      }
    },
    {
      "cell_type": "code",
      "source": [
        "# Chart - 4 visualization code\n",
        "#bivariate analysis\n",
        "# To find out peak month of non cancelled booking\n",
        "df2=df1[df1['is_canceled']==0]\n",
        "plt.figure(figsize=(15,8))\n",
        "sns.set_style('whitegrid')\n",
        "plt.rc('font',size=15)\n",
        "sns.set(font_scale=1.20)\n",
        "sns.countplot(x=df2['arrival_date_month'],hue=df2['hotel'],order=['January', 'February', 'March', 'April', 'May', 'June', 'July',\n",
        "          'August', 'September', 'October', 'November', 'December'])\n",
        "plt.legend()\n",
        "plt.title('Peak Month of Booking',fontsize=20)\n",
        "plt.xlabel('Month',fontsize=20)\n",
        "plt.ylabel('Non cancelled bookings',fontsize=20)\n",
        "plt.show()\n"
      ],
      "metadata": {
        "id": "uXty_uKlY2Dv"
      },
      "execution_count": null,
      "outputs": []
    },
    {
      "cell_type": "markdown",
      "source": [
        "##### 1. Why did you pick the specific chart?"
      ],
      "metadata": {
        "id": "AKxRB6iccDsY"
      }
    },
    {
      "cell_type": "markdown",
      "source": [
        "**I selected countplot to find out Peak Month of Booking**"
      ],
      "metadata": {
        "id": "hprpB_rxcDda"
      }
    },
    {
      "cell_type": "markdown",
      "source": [
        "##### 2. What is/are the insight(s) found from the chart?"
      ],
      "metadata": {
        "id": "fBVibJSXcDPL"
      }
    },
    {
      "cell_type": "markdown",
      "source": [
        "**It has been found that July and August are the Peak month of Booking**"
      ],
      "metadata": {
        "id": "ShoYnv8vcC-a"
      }
    },
    {
      "cell_type": "markdown",
      "source": [
        "##### 3. Will the gained insights help creating a positive business impact?\n",
        "Are there any insights that lead to negative growth? Justify with specific reason."
      ],
      "metadata": {
        "id": "Guh4fgoOcCyA"
      }
    },
    {
      "cell_type": "markdown",
      "source": [
        "**July and August has maximun bookings for both type of hotels, The hotel management can advertise maximum in these months and can provide special discounts to attract more customers**"
      ],
      "metadata": {
        "id": "sk-p02MycCfK"
      }
    },
    {
      "cell_type": "markdown",
      "source": [
        "#### Chart - 5 **Booking Cancellation Year-wise**"
      ],
      "metadata": {
        "id": "gU_cvkepgD4j"
      }
    },
    {
      "cell_type": "code",
      "source": [
        "# Chart - 5 visualization code\n",
        "# To find out year wise cancelaltion\n",
        "#bivariate analysis\n",
        "df3=df1[df1['is_canceled']==1]\n",
        "plt.figure(figsize=(15,7))\n",
        "sns.set_style('whitegrid')\n",
        "plt.rc('font',size=15)\n",
        "sns.countplot(x=df3['arrival_date_year'],hue=df3['hotel'])\n",
        "plt.legend()\n",
        "plt.title('Year wise Booking Cancelation',fontsize=20)\n",
        "plt.xlabel('year',fontsize=20)\n",
        "plt.ylabel('No. of bookings Cancelation',fontsize=20)\n",
        "plt.show()\n",
        "#using pie chart to find out %age of Booking cancelation over 3 years\n",
        "plt.pie(x=df3.hotel.value_counts(),labels=['City hotel','Resort hotel'],autopct=\"%0.1f%%\",shadow=True,textprops={'fontsize':13})\n",
        "plt.legend(bbox_to_anchor=(1,1))\n",
        "plt.title('Hotel Booking Cancelation')\n",
        "plt.show()"
      ],
      "metadata": {
        "id": "Pz1ogZPPgUkQ"
      },
      "execution_count": null,
      "outputs": []
    },
    {
      "cell_type": "markdown",
      "source": [
        "##### 1. Why did you pick the specific chart?"
      ],
      "metadata": {
        "id": "d_A1AcYyhdm_"
      }
    },
    {
      "cell_type": "markdown",
      "source": [
        "**I selected countplot and pie chart to find out which year hotel has maximun cancelation and in which year**"
      ],
      "metadata": {
        "id": "qDU7Q0cwhdSS"
      }
    },
    {
      "cell_type": "markdown",
      "source": [
        "##### 2. What is/are the insight(s) found from the chart?"
      ],
      "metadata": {
        "id": "dateUshchdAj"
      }
    },
    {
      "cell_type": "markdown",
      "source": [
        "* **It has been find out that City Hotel has around 67% of booking cancelation over 3 year and maximum cancelation was in year 2016**\n",
        "* **Resort hotel has around 33% of booking cancelation and maximun was in year 2016**"
      ],
      "metadata": {
        "id": "SObMj8t_hcxu"
      }
    },
    {
      "cell_type": "markdown",
      "source": [
        "##### 3. Will the gained insights help creating a positive business impact?\n",
        "Are there any insights that lead to negative growth? Justify with specific reason."
      ],
      "metadata": {
        "id": "ShAB69Ckhcja"
      }
    },
    {
      "cell_type": "markdown",
      "source": [
        "**Hotel management needs to find out why booking cancelation was so much in year 2016**\n"
      ],
      "metadata": {
        "id": "CR_9G99ChcLJ"
      }
    },
    {
      "cell_type": "markdown",
      "source": [
        "#### Chart - 6 **Prefered length of stay**"
      ],
      "metadata": {
        "id": "4Of9eVA-YrdM"
      }
    },
    {
      "cell_type": "code",
      "source": [
        "# Chart - 6 visualization code\n",
        "# bivaraite analysis\n",
        "# find out what is preferred length of stay by the customers\n",
        "stay = df2[df2['total_stay'] < 10]   #considering maximun for 10 days stay\n",
        "plt.figure(figsize = (10,7))\n",
        "sns.countplot(x = stay['total_stay'], hue = stay['hotel'])\n",
        "plt.show()"
      ],
      "metadata": {
        "id": "irlUoxc8YrdO"
      },
      "execution_count": null,
      "outputs": []
    },
    {
      "cell_type": "markdown",
      "source": [
        "##### 1. Why did you pick the specific chart?"
      ],
      "metadata": {
        "id": "iky9q4vBYrdO"
      }
    },
    {
      "cell_type": "markdown",
      "source": [
        "**I have selected count plot to analyze preferred length of stay by the customers**"
      ],
      "metadata": {
        "id": "aJRCwT6DYrdO"
      }
    },
    {
      "cell_type": "markdown",
      "source": [
        "##### 2. What is/are the insight(s) found from the chart?"
      ],
      "metadata": {
        "id": "F6T5p64dYrdO"
      }
    },
    {
      "cell_type": "markdown",
      "source": [
        "* **For Resot Hotel maximum customers prefer 1 day of stay**\n",
        "* **For City Hotel maximum customers prefer 3 days of stay**"
      ],
      "metadata": {
        "id": "Xx8WAJvtYrdO"
      }
    },
    {
      "cell_type": "markdown",
      "source": [
        "##### 3. Will the gained insights help creating a positive business impact?\n",
        "Are there any insights that lead to negative growth? Justify with specific reason."
      ],
      "metadata": {
        "id": "y-Ehk30pYrdP"
      }
    },
    {
      "cell_type": "markdown",
      "source": [
        "**Average length of the stay in both the Hotels is 2-3 days, so the Hotel management can provide any special offers for 2-3 days stay to get more customers**"
      ],
      "metadata": {
        "id": "jLNxxz7MYrdP"
      }
    },
    {
      "cell_type": "markdown",
      "source": [
        "#### Chart - 7 **Top 15 Visiting Countries**"
      ],
      "metadata": {
        "id": "bamQiAODYuh1"
      }
    },
    {
      "cell_type": "code",
      "source": [
        "# Chart - 7 visualization code\n",
        "#Bivariate Analysis\n",
        "#to find out Top 15 visiting countries\n",
        "guest_country=df2['country'].value_counts().reset_index()\n",
        "guest_country.rename(columns={'index':'country_name','country':'No. of guests'},inplace=True)\n",
        "g1=guest_country[guest_country['No. of guests']>650]  #to get top 15 countries\n",
        "plt.figure(figsize = (15,10))\n",
        "sns.set(font_scale=1.5)\n",
        "sns.barplot(x = g1['country_name'], y=g1['No. of guests'])\n",
        "plt.title('Top 15 visiting countries',fontsize=20)\n",
        "plt.xlabel('Country',fontsize=20)\n",
        "plt.ylabel('No. of Guests',fontsize=20)\n",
        "plt.show()"
      ],
      "metadata": {
        "id": "TIJwrbroYuh3"
      },
      "execution_count": null,
      "outputs": []
    },
    {
      "cell_type": "markdown",
      "source": [
        "##### 1. Why did you pick the specific chart?"
      ],
      "metadata": {
        "id": "QHF8YVU7Yuh3"
      }
    },
    {
      "cell_type": "markdown",
      "source": [
        "**I Picked seaborn barplot to visualize contry and no. of guests from each country**"
      ],
      "metadata": {
        "id": "dcxuIMRPYuh3"
      }
    },
    {
      "cell_type": "markdown",
      "source": [
        "##### 2. What is/are the insight(s) found from the chart?"
      ],
      "metadata": {
        "id": "GwzvFGzlYuh3"
      }
    },
    {
      "cell_type": "markdown",
      "source": [
        "**It has been observed that customers come from all over the world in these two hotels but more than 50% of the customer belongs to Portugal,Great Brtain and France**"
      ],
      "metadata": {
        "id": "uyqkiB8YYuh3"
      }
    },
    {
      "cell_type": "markdown",
      "source": [
        "##### 3. Will the gained insights help creating a positive business impact?\n",
        "Are there any insights that lead to negative growth? Justify with specific reason."
      ],
      "metadata": {
        "id": "qYpmQ266Yuh3"
      }
    },
    {
      "cell_type": "markdown",
      "source": [
        "**Since most of the guests visiting the hotel belongs to Portugal and other European Countries so, the Hotel management should advertize more in these countries only**"
      ],
      "metadata": {
        "id": "_WtzZ_hCYuh4"
      }
    },
    {
      "cell_type": "markdown",
      "source": [
        "#### Chart - 8 **Distribution Of Booking**"
      ],
      "metadata": {
        "id": "OH-pJp9IphqM"
      }
    },
    {
      "cell_type": "code",
      "source": [
        "# Chart - 8 visualization code\n",
        "#find distribution of booking through different market segment\n",
        "plt.figure(figsize=(18,7))\n",
        "sns.set_style('whitegrid')\n",
        "sns.set(font_scale=1.5)\n",
        "plt.rc('font',size=10)\n",
        "sns.countplot(x='market_segment',data=df1)\n",
        "plt.title('Distribution Of booking through different market segment',fontsize=20)\n",
        "plt.xlabel('Type of market segment',fontsize=20)\n",
        "plt.ylabel('No. of bookings',fontsize=20)\n",
        "plt.show()"
      ],
      "metadata": {
        "id": "kuRf4wtuphqN"
      },
      "execution_count": null,
      "outputs": []
    },
    {
      "cell_type": "code",
      "source": [
        "#using pie chart to findout percentage\n",
        "plt.figure(figsize=(7,7))\n",
        "plt.pie(df1.market_segment.value_counts(),labels=['Online TA','Offline TA/TO','Direct','Groups','Corporate','Complementary','Aviation','Undefined'],autopct=\"%0.1f%%\",shadow=True,textprops={'fontsize':13})\n",
        "plt.legend(bbox_to_anchor=(1.5,1))\n",
        "plt.title('Distribution through different channels')\n",
        "plt.show()"
      ],
      "metadata": {
        "id": "feaKOus7rGMs"
      },
      "execution_count": null,
      "outputs": []
    },
    {
      "cell_type": "markdown",
      "source": [
        "##### 1. Why did you pick the specific chart?"
      ],
      "metadata": {
        "id": "bbFf2-_FphqN"
      }
    },
    {
      "cell_type": "markdown",
      "source": [
        "**I have selected countplot and pie chart to analyze distribution of booking through different market segment**"
      ],
      "metadata": {
        "id": "loh7H2nzphqN"
      }
    },
    {
      "cell_type": "markdown",
      "source": [
        "##### 2. What is/are the insight(s) found from the chart?"
      ],
      "metadata": {
        "id": "_ouA3fa0phqN"
      }
    },
    {
      "cell_type": "markdown",
      "source": [
        "**Around 59% of the booking is done by online Travel Agent followed by the 16% offline Travel agent**"
      ],
      "metadata": {
        "id": "VECbqPI7phqN"
      }
    },
    {
      "cell_type": "markdown",
      "source": [
        "##### 3. Will the gained insights help creating a positive business impact?\n",
        "Are there any insights that lead to negative growth? Justify with specific reason."
      ],
      "metadata": {
        "id": "Seke61FWphqN"
      }
    },
    {
      "cell_type": "markdown",
      "source": [
        "**Efforts should be made by the Hotel management to attract customers to book from company website directly**"
      ],
      "metadata": {
        "id": "DW4_bGpfphqN"
      }
    },
    {
      "cell_type": "markdown",
      "source": [
        "#### Chart - 9 **Preferred Booking Channel**"
      ],
      "metadata": {
        "id": "PIIx-8_IphqN"
      }
    },
    {
      "cell_type": "code",
      "source": [
        "# Chart - 9 visualization code\n",
        "# To know most preferred distribution channel for booking\n",
        "plt.figure(figsize=(17,7))\n",
        "sns.set_style('whitegrid')\n",
        "plt.rc('font',size=15)\n",
        "sns.countplot(x='distribution_channel',data=df1)\n",
        "plt.title('Distribution through different channels',fontsize=20)\n",
        "plt.xlabel('Type of distribution channel',fontsize=20)\n",
        "plt.ylabel('No. of bookings',fontsize=20)\n",
        "plt.show()"
      ],
      "metadata": {
        "id": "lqAIGUfyphqO"
      },
      "execution_count": null,
      "outputs": []
    },
    {
      "cell_type": "code",
      "source": [
        "#using pie chart to find out percentage distribution among different channels\n",
        "plt.figure(figsize=(7,7))\n",
        "plt.pie(df1.distribution_channel.value_counts(),labels=['TA/TO','Direct','corporate','undefined','GDS'],autopct=\"%0.1f%%\",shadow=True,textprops={'fontsize':13})\n",
        "plt.legend(bbox_to_anchor=(1,1))\n",
        "plt.title('Distribution through different channels')\n",
        "plt.show()"
      ],
      "metadata": {
        "id": "0TK8sLph28YC"
      },
      "execution_count": null,
      "outputs": []
    },
    {
      "cell_type": "markdown",
      "source": [
        "##### 1. Why did you pick the specific chart?"
      ],
      "metadata": {
        "id": "t27r6nlMphqO"
      }
    },
    {
      "cell_type": "markdown",
      "source": [
        "**I picked up seaborn countplot to analyze which type of distribution mostly used by the customers for booking and by using pie chart percantage distribution was found**\n"
      ],
      "metadata": {
        "id": "iv6ro40sphqO"
      }
    },
    {
      "cell_type": "markdown",
      "source": [
        "##### 2. What is/are the insight(s) found from the chart?"
      ],
      "metadata": {
        "id": "r2jJGEOYphqO"
      }
    },
    {
      "cell_type": "markdown",
      "source": [
        "**It was found out that 79% of hotel booking is done by travel agents/travel operators followed by the Direct i.e 15%**"
      ],
      "metadata": {
        "id": "Po6ZPi4hphqO"
      }
    },
    {
      "cell_type": "markdown",
      "source": [
        "##### 3. Will the gained insights help creating a positive business impact?\n",
        "Are there any insights that lead to negative growth? Justify with specific reason."
      ],
      "metadata": {
        "id": "b0JNsNcRphqO"
      }
    },
    {
      "cell_type": "markdown",
      "source": [
        "**The hotel management can offer discounts, complimentary services and offers on direct bookings as the hotel doesn’t pay commissions to third parties and maintains a direct relationship with the customer when a customer books the hotel directly.**"
      ],
      "metadata": {
        "id": "xvSq8iUTphqO"
      }
    },
    {
      "cell_type": "markdown",
      "source": [
        "#### Chart - 10 **Guest Repeating Status**"
      ],
      "metadata": {
        "id": "BZR9WyysphqO"
      }
    },
    {
      "cell_type": "code",
      "source": [
        "# Chart - 10 visualization code\n",
        "#univariate analysis\n",
        "#To check how much percentage of customers repeats the hotel booking\n",
        "plt.figure(figsize=(7,7))\n",
        "plt.pie(df1.is_repeated_guest.value_counts(),labels=['Not_repeated','Repeated'],explode=[0,0.3],autopct=\"%0.1f%%\",shadow=True,textprops={'fontsize':13})\n",
        "plt.legend(bbox_to_anchor=(1,1))\n",
        "plt.title('Guest repeating Status')\n",
        "plt.show()"
      ],
      "metadata": {
        "id": "TdPTWpAVphqO"
      },
      "execution_count": null,
      "outputs": []
    },
    {
      "cell_type": "markdown",
      "source": [
        "##### 1. Why did you pick the specific chart?"
      ],
      "metadata": {
        "id": "jj7wYXLtphqO"
      }
    },
    {
      "cell_type": "markdown",
      "source": [
        "**I have choosen pie chart to find put how much percentage of guests has booked the hotel repeatedly and how much has first visit**\n"
      ],
      "metadata": {
        "id": "Ob8u6rCTphqO"
      }
    },
    {
      "cell_type": "markdown",
      "source": [
        "##### 2. What is/are the insight(s) found from the chart?"
      ],
      "metadata": {
        "id": "eZrbJ2SmphqO"
      }
    },
    {
      "cell_type": "markdown",
      "source": [
        "**I found out that only 4% of the guests has done repeated booking over these 3 years**"
      ],
      "metadata": {
        "id": "mZtgC_hjphqO"
      }
    },
    {
      "cell_type": "markdown",
      "source": [
        "##### 3. Will the gained insights help creating a positive business impact?\n",
        "Are there any insights that lead to negative growth? Justify with specific reason."
      ],
      "metadata": {
        "id": "rFu4xreNphqO"
      }
    },
    {
      "cell_type": "markdown",
      "source": [
        "**The Hotel management can start membership plans and give spcial offers for the repeated customers**"
      ],
      "metadata": {
        "id": "ey_0qi68phqO"
      }
    },
    {
      "cell_type": "markdown",
      "source": [
        "#### Chart - 11 **Room assigned to customer**"
      ],
      "metadata": {
        "id": "YJ55k-q6phqO"
      }
    },
    {
      "cell_type": "code",
      "source": [
        "# Chart - 11 visualization code\n",
        "#bivariate analysis\n",
        "#To find out Type of room assigned to the Guests w.r.t hotel type\n",
        "plt.figure(figsize=(17,7))\n",
        "sns.set_style('whitegrid')\n",
        "plt.rc('font',size=15)\n",
        "sns.countplot(x='assigned_room_type',data=df1,hue='hotel')\n",
        "plt.legend(bbox_to_anchor=(.5,1))\n",
        "plt.title('Type of Room assigned to Guests w.r.t Hotel Type',fontsize=20)\n",
        "plt.xlabel('Room Type',fontsize=20)\n",
        "plt.ylabel('No. of bookings',fontsize=20)\n",
        "plt.show()"
      ],
      "metadata": {
        "id": "B2aS4O1ophqO"
      },
      "execution_count": null,
      "outputs": []
    },
    {
      "cell_type": "markdown",
      "source": [
        "##### 1. Why did you pick the specific chart?"
      ],
      "metadata": {
        "id": "gCFgpxoyphqP"
      }
    },
    {
      "cell_type": "markdown",
      "source": [
        "**I have choosen countplot to find out which type of room is mostly assigned to Guests**"
      ],
      "metadata": {
        "id": "TVxDimi2phqP"
      }
    },
    {
      "cell_type": "markdown",
      "source": [
        "##### 2. What is/are the insight(s) found from the chart?"
      ],
      "metadata": {
        "id": "OVtJsKN_phqQ"
      }
    },
    {
      "cell_type": "markdown",
      "source": [
        "**It has been find out that in both hotels A type of Room is mostly assigned to guests followed by the D type Room**"
      ],
      "metadata": {
        "id": "ngGi97qjphqQ"
      }
    },
    {
      "cell_type": "markdown",
      "source": [
        "##### 3. Will the gained insights help creating a positive business impact?\n",
        "Are there any insights that lead to negative growth? Justify with specific reason."
      ],
      "metadata": {
        "id": "lssrdh5qphqQ"
      }
    },
    {
      "cell_type": "markdown",
      "source": [
        "**It has find out that among all room types A and D are most commonly assigned to the Guest ,may be because of economical and better services**"
      ],
      "metadata": {
        "id": "tBpY5ekJphqQ"
      }
    },
    {
      "cell_type": "markdown",
      "source": [
        "#### Chart - 12 **Customer Type**"
      ],
      "metadata": {
        "id": "U2RJ9gkRphqQ"
      }
    },
    {
      "cell_type": "code",
      "source": [
        "# Chart - 12 visualization code\n",
        "#univariate Analysis\n",
        "#Find out which type of customer has highest booking\n",
        "plt.figure(figsize=(7,7))\n",
        "plt.pie(df1.customer_type.value_counts(),labels=['Transient','Transient-Party','Contract','Group'],autopct=\"%0.1f%%\",shadow=True,textprops={'fontsize':13})\n",
        "plt.legend(bbox_to_anchor=(1,1))\n",
        "plt.title('Customer Type')\n",
        "plt.show()"
      ],
      "metadata": {
        "id": "GM7a4YP4phqQ"
      },
      "execution_count": null,
      "outputs": []
    },
    {
      "cell_type": "markdown",
      "source": [
        "##### 1. Why did you pick the specific chart?"
      ],
      "metadata": {
        "id": "1M8mcRywphqQ"
      }
    },
    {
      "cell_type": "markdown",
      "source": [
        "**I have selected pie chart to find put most common type of customer**"
      ],
      "metadata": {
        "id": "8agQvks0phqQ"
      }
    },
    {
      "cell_type": "markdown",
      "source": [
        "##### 2. What is/are the insight(s) found from the chart?"
      ],
      "metadata": {
        "id": "tgIPom80phqQ"
      }
    },
    {
      "cell_type": "markdown",
      "source": [
        "**It has been find out that Transient type of customer has made around 82% of booking over these 3 years**"
      ],
      "metadata": {
        "id": "Qp13pnNzphqQ"
      }
    },
    {
      "cell_type": "markdown",
      "source": [
        "##### 3. Will the gained insights help creating a positive business impact?\n",
        "Are there any insights that lead to negative growth? Justify with specific reason."
      ],
      "metadata": {
        "id": "JMzcOPDDphqR"
      }
    },
    {
      "cell_type": "markdown",
      "source": [
        "**Here since very less people comes in groups so Hotel management can start any family/group package to attract more customers**"
      ],
      "metadata": {
        "id": "R4Ka1PC2phqR"
      }
    },
    {
      "cell_type": "markdown",
      "source": [
        "#### Chart - 13 **Deposit Type**"
      ],
      "metadata": {
        "id": "n3dbpmDWp1ck"
      }
    },
    {
      "cell_type": "code",
      "source": [
        "# Chart - 13 visualization code\n",
        "#find out percentage using pie chart\n",
        "plt.figure(figsize=(7,7))\n",
        "plt.pie(df1.deposit_type.value_counts(),explode=[0,0.5,0.5],labels=['No Deposit','Non Refund','Refundable'],autopct=\"%0.1f%%\",shadow=True,textprops={'fontsize':13})\n",
        "plt.legend(bbox_to_anchor=(1,1))\n",
        "plt.title('Deposit Type')\n",
        "plt.show()"
      ],
      "metadata": {
        "id": "bwevp1tKp1ck"
      },
      "execution_count": null,
      "outputs": []
    },
    {
      "cell_type": "markdown",
      "source": [
        "##### 1. Why did you pick the specific chart?"
      ],
      "metadata": {
        "id": "ylSl6qgtp1ck"
      }
    },
    {
      "cell_type": "markdown",
      "source": [
        "**I have select pie chart to find out the what is the deposit type**"
      ],
      "metadata": {
        "id": "m2xqNkiQp1ck"
      }
    },
    {
      "cell_type": "markdown",
      "source": [
        "##### 2. What is/are the insight(s) found from the chart?"
      ],
      "metadata": {
        "id": "ZWILFDl5p1ck"
      }
    },
    {
      "cell_type": "markdown",
      "source": [
        "**It has been find out that around 99% of the customer has choosen No deposit**"
      ],
      "metadata": {
        "id": "x-lUsV2mp1ck"
      }
    },
    {
      "cell_type": "markdown",
      "source": [
        "##### 3. Will the gained insights help creating a positive business impact?\n",
        "Are there any insights that lead to negative growth? Justify with specific reason."
      ],
      "metadata": {
        "id": "M7G43BXep1ck"
      }
    },
    {
      "cell_type": "markdown",
      "source": [
        "**Hotel management should make Refundable deposit compulsory**"
      ],
      "metadata": {
        "id": "5wwDJXsLp1cl"
      }
    },
    {
      "cell_type": "markdown",
      "source": [
        "#### Chart - 14 **Special Request by the Customer**"
      ],
      "metadata": {
        "id": "Ag9LCva-p1cl"
      }
    },
    {
      "cell_type": "code",
      "source": [
        "# Chart - 14 visualization code\n",
        "#Find out How many special Requests by the Guests\n",
        "plt.figure(figsize=(17,7))\n",
        "sns.set_style('whitegrid')\n",
        "plt.rc('font',size=15)\n",
        "sns.countplot(x='total_of_special_requests',data=df1,hue='hotel')\n",
        "plt.legend(bbox_to_anchor=(.5,1))\n",
        "plt.title('Special Request by the customer',fontsize=20)\n",
        "plt.xlabel('No. of Requests',fontsize=20)\n",
        "plt.show()\n",
        "#find out percentage using pie chart\n",
        "plt.figure(figsize=(7,7))\n",
        "plt.pie(df1.total_of_special_requests.value_counts(),labels=['0-Request','1-Request','2-Requests','3-Requests','4-Requests','5-Requests'],autopct=\"%0.1f%%\",shadow=True,textprops={'fontsize':13})\n",
        "plt.legend(bbox_to_anchor=(1,1))\n",
        "plt.title('Special Request')\n",
        "plt.show()\n"
      ],
      "metadata": {
        "id": "EUfxeq9-p1cl"
      },
      "execution_count": null,
      "outputs": []
    },
    {
      "cell_type": "markdown",
      "source": [
        "##### 1. Why did you pick the specific chart?"
      ],
      "metadata": {
        "id": "E6MkPsBcp1cl"
      }
    },
    {
      "cell_type": "markdown",
      "source": [
        "**I have select countplot,pie chart to find out the No. and %age of special requests made by the customers**"
      ],
      "metadata": {
        "id": "V22bRsFWp1cl"
      }
    },
    {
      "cell_type": "markdown",
      "source": [
        "##### 2. What is/are the insight(s) found from the chart?"
      ],
      "metadata": {
        "id": "2cELzS2fp1cl"
      }
    },
    {
      "cell_type": "markdown",
      "source": [
        "**It has been found out that 50% ,33% of the customers has 0 or 1 special request respectively**\n"
      ],
      "metadata": {
        "id": "ozQPc2_Ip1cl"
      }
    },
    {
      "cell_type": "markdown",
      "source": [
        "##### 3. Will the gained insights help creating a positive business impact?\n",
        "Are there any insights that lead to negative growth? Justify with specific reason."
      ],
      "metadata": {
        "id": "3MPXvC8up1cl"
      }
    },
    {
      "cell_type": "markdown",
      "source": [
        "**Since most of the customers don't have any special request so all the basic needs are being provided by the hotel management**"
      ],
      "metadata": {
        "id": "GL8l1tdLp1cl"
      }
    },
    {
      "cell_type": "markdown",
      "source": [
        "####Chart 15 **ADR of both Hotels**\n"
      ],
      "metadata": {
        "id": "Fa06b-iy6Tkp"
      }
    },
    {
      "cell_type": "code",
      "source": [
        "# Chart - 15 visualization\n",
        "d3 = total_booking['adr'].agg(np.mean).reset_index().rename(columns = {'adr':'avg_adr'})\n",
        "sns.set_style('whitegrid')\n",
        "plt.figure(figsize=(10,7))\n",
        "sns.barplot(x = d3['hotel'], y = d3['avg_adr'] )\n",
        "plt.show()\n",
        "\n"
      ],
      "metadata": {
        "id": "TnzEUlfn6dYr"
      },
      "execution_count": null,
      "outputs": []
    },
    {
      "cell_type": "markdown",
      "source": [
        "##### 1. Why did you pick the specific chart?"
      ],
      "metadata": {
        "id": "beEIvZPC6wMe"
      }
    },
    {
      "cell_type": "markdown",
      "source": [
        "**I selected barplot to analyze average adr of both the hotels**"
      ],
      "metadata": {
        "id": "L6Eg7WgU6v6_"
      }
    },
    {
      "cell_type": "markdown",
      "source": [
        "##### 2. What is/are the insight(s) found from the chart?"
      ],
      "metadata": {
        "id": "CEL11xiu6vl2"
      }
    },
    {
      "cell_type": "markdown",
      "source": [
        "**It has been found that adr of city hotel is more that means more revenue generated**"
      ],
      "metadata": {
        "id": "PB3zqBJw6vUa"
      }
    },
    {
      "cell_type": "markdown",
      "source": [
        "##### 3. Will the gained insights help creating a positive business impact?\n",
        "\n",
        "Are there any insights that lead to negative growth? Justify with specific reason."
      ],
      "metadata": {
        "id": "ke3wV81d6vGV"
      }
    },
    {
      "cell_type": "markdown",
      "source": [
        "**Resort hotel management needs to start any special offer to attract more customers**"
      ],
      "metadata": {
        "id": "25os3eMr6uxE"
      }
    },
    {
      "cell_type": "markdown",
      "source": [
        "Chart 16 **Revenue Generted by room**"
      ],
      "metadata": {
        "id": "jTYZ2iTkPo7U"
      }
    },
    {
      "cell_type": "code",
      "source": [
        "#barplot for Room type and their average price\n",
        "plt.figure(figsize=(15,7))\n",
        "sns.set_style('whitegrid')\n",
        "plt.rc('font',size=15)\n",
        "sns.barplot(y='revenue',x='assigned_room_type',data=df1)\n",
        "plt.legend()\n",
        "plt.title('Revenue Generated by Room',fontsize=20)\n",
        "plt.xlabel('Room Type',fontsize=20)\n",
        "plt.ylabel('Revenue',fontsize=20)\n",
        "plt.show()"
      ],
      "metadata": {
        "id": "KFW-IFzYBojS"
      },
      "execution_count": null,
      "outputs": []
    },
    {
      "cell_type": "markdown",
      "source": [
        "##### 1. Why did you pick the specific chart?"
      ],
      "metadata": {
        "id": "fsXBRQSCvBx1"
      }
    },
    {
      "cell_type": "markdown",
      "source": [
        "**I selected barplot plot to visvalize assigned room type against revenue generated**"
      ],
      "metadata": {
        "id": "XC7PlN8GvBg1"
      }
    },
    {
      "cell_type": "markdown",
      "source": [
        "##### 2. What is/are the insight(s) found from the chart?"
      ],
      "metadata": {
        "id": "47vYPIZNvBWD"
      }
    },
    {
      "cell_type": "markdown",
      "source": [
        "**It has been found that G and H room types makes more revenue, so these type of room might be expensive with some more luxury facilities**"
      ],
      "metadata": {
        "id": "tuYSu8zDvBLU"
      }
    },
    {
      "cell_type": "markdown",
      "source": [
        "##### 3. Will the gained insights help creating a positive business impact?\n",
        "\n",
        "Are there any insights that lead to negative growth? Justify with specific reason."
      ],
      "metadata": {
        "id": "SfIvHaauvA-1"
      }
    },
    {
      "cell_type": "markdown",
      "source": [
        "**Hotel management might provide some discount offer in off season to attract more customers towards these rooms and generate more money**"
      ],
      "metadata": {
        "id": "8HkYPFoBvApK"
      }
    },
    {
      "cell_type": "markdown",
      "source": [
        "#### Chart - 16 - **Correlation Heatmap**"
      ],
      "metadata": {
        "id": "NC_X3p0fY2L0"
      }
    },
    {
      "cell_type": "code",
      "source": [
        "categorical_features=df1.select_dtypes(include=[np.object])\n",
        "categorical_features.columns\n"
      ],
      "metadata": {
        "id": "wSSgu5qkIjXU"
      },
      "execution_count": null,
      "outputs": []
    },
    {
      "cell_type": "markdown",
      "source": [
        "So there is no need to find corelation of these columns"
      ],
      "metadata": {
        "id": "O8DWN2BcJSzs"
      }
    },
    {
      "cell_type": "code",
      "source": [
        "# Correlation Heatmap visualization code\n",
        "dcorr = df1[['lead_time','previous_cancellations','previous_bookings_not_canceled','booking_changes','adr','required_car_parking_spaces','total_of_special_requests','total_stay','total_guests']]\n",
        "df_corr = dcorr.corr()\n",
        "f, ax = plt.subplots(figsize = (18,9))\n",
        "sns.heatmap(df_corr, annot = True, fmt='.2f', annot_kws =  {'size': 15}, vmax = .99, square = True)\n",
        "plt.show()"
      ],
      "metadata": {
        "id": "xyC9zolEZNRQ"
      },
      "execution_count": null,
      "outputs": []
    },
    {
      "cell_type": "markdown",
      "source": [
        "##### 1. Why did you pick the specific chart?"
      ],
      "metadata": {
        "id": "UV0SzAkaZNRQ"
      }
    },
    {
      "cell_type": "markdown",
      "source": [
        "**In order to find out co-relation between the variables**"
      ],
      "metadata": {
        "id": "DVPuT8LYZNRQ"
      }
    },
    {
      "cell_type": "markdown",
      "source": [
        "##### 2. What is/are the insight(s) found from the chart?"
      ],
      "metadata": {
        "id": "YPEH6qLeZNRQ"
      }
    },
    {
      "cell_type": "markdown",
      "source": [
        "\n",
        "\n",
        "1.   **Total stay and the lead time have positive correlation, that means if customer plans to stay for longer they will do booking in advance**\n",
        "2.  **ADR is positively correlated with total_people, more people means    revenue**\n",
        "\n",
        "\n",
        "\n",
        "\n",
        "\n",
        "\n",
        "\n"
      ],
      "metadata": {
        "id": "bfSqtnDqZNRR"
      }
    },
    {
      "cell_type": "markdown",
      "source": [
        "#### Chart - 17 - **Pair Plot**\n"
      ],
      "metadata": {
        "id": "q29F0dvdveiT"
      }
    },
    {
      "cell_type": "code",
      "source": [
        "# Pair Plot visualization code\n",
        "#scatter plot between adr and total_stay\n",
        "plt.figure(figsize = (18,9))\n",
        "sns.scatterplot(x= 'adr', y = 'total_stay', data = df1)\n",
        "plt.show()"
      ],
      "metadata": {
        "id": "o58-TEIhveiU"
      },
      "execution_count": null,
      "outputs": []
    },
    {
      "cell_type": "markdown",
      "source": [
        "##### 1. Why did you pick the specific chart?"
      ],
      "metadata": {
        "id": "EXh0U9oCveiU"
      }
    },
    {
      "cell_type": "markdown",
      "source": [
        "**To compare the relationship between adr and total stay**"
      ],
      "metadata": {
        "id": "eMmPjTByveiU"
      }
    },
    {
      "cell_type": "markdown",
      "source": [
        "##### 2. What is/are the insight(s) found from the chart?"
      ],
      "metadata": {
        "id": "22aHeOlLveiV"
      }
    },
    {
      "cell_type": "markdown",
      "source": [
        "**Here it can be seen that if Guest stay is higher adr is decreasing, so longer stay customer is getting better deal**"
      ],
      "metadata": {
        "id": "uPQ8RGwHveiV"
      }
    },
    {
      "cell_type": "markdown",
      "source": [
        "## **5. Solution to Business Objective**"
      ],
      "metadata": {
        "id": "JcMwzZxoAimU"
      }
    },
    {
      "cell_type": "markdown",
      "source": [
        "#### What do you suggest the client to achieve Business Objective ?\n",
        "Explain Briefly."
      ],
      "metadata": {
        "id": "8G2x9gOozGDZ"
      }
    },
    {
      "cell_type": "markdown",
      "source": [
        "Here are the suggested steps to achieve business objectives:\n",
        "\n",
        "1. Hotel management can introduce special packages including meals and other amenities to attract more travelers.\n",
        "2. Implementing a membership plan with exclusive discounts can help in customer retention.\n",
        "3. Investigate reasons for booking cancellations and minimize them effectively.\n",
        "4. Utilize social media for targeted advertising, especially during peak seasons.\n",
        "5. Collaborate with online/offline travel agencies and booking partners to increase customer acquisition.\n",
        "6. Ensure maximum bookings are made through the company website or app.\n",
        "7. Introduce attractive offers for group bookings and extended stays.\n",
        "8. Dedicate efforts to thoroughly analyze customer feedback to enhance facilities and services.\n",
        "9. Offer special discounts during offseasons to attract customers during slower periods.\n",
        "10. Consider making deposits mandatory to secure bookings effectively.\n",
        "\n"
      ],
      "metadata": {
        "id": "pASKb0qOza21"
      }
    },
    {
      "cell_type": "markdown",
      "source": [
        "# **Conclusion**"
      ],
      "metadata": {
        "id": "gCX9965dhzqZ"
      }
    },
    {
      "cell_type": "markdown",
      "source": [
        "Write the conclusion here.\n",
        "\n",
        "1. The City Hotel garners higher customer bookings, resulting in increased revenue.\n",
        "2. Customers predominantly opt for Bed & Breakfast meal plans.\n",
        "3. 2016 witnessed the peak of bookings for both hotels.\n",
        "4. July and August mark the peak months for bookings in both hotels.\n",
        "5. The average preferred stay length is 2-4 days.\n",
        "6. Portugal, Great Britain, and France contribute the most guests to the hotels.\n",
        "7. Room Type A is the most preferred accommodation.\n",
        "8. Rooms G and H generate significant revenue.\n",
        "9. The majority of guests are first-time visitors.\n",
        "10. Approximately 25-30% of bookings get canceled, with more cancellations from the City Hotel.\n",
        "11. Transient customers make the most bookings.\n",
        "12. Most customers opt for no deposit.\n",
        "13. The majority of guests make no special requests.\n",
        "14. Online travel agents dominate the market segment for bookings.\n",
        "15. Total stay and lead time exhibit a positive correlation.\n",
        "16. Longer-stay customers receive better deals.\n",
        "\n"
      ],
      "metadata": {
        "id": "Fjb1IsQkh3yE"
      }
    },
    {
      "cell_type": "code",
      "source": [],
      "metadata": {
        "id": "L4p3DZNxAh_W"
      },
      "execution_count": null,
      "outputs": []
    }
  ]
}
